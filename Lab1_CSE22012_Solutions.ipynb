{
 "cells": [
  {
   "cell_type": "code",
   "execution_count": 15,
   "id": "7de9469d-fee3-4847-ad43-f6ef24cc381c",
   "metadata": {},
   "outputs": [
    {
     "name": "stdout",
     "output_type": "stream",
     "text": [
      "Input Word: I am Baba Ameer Shaik\n",
      "Number of Vowels: 9, Number of Consonants: 8\n"
     ]
    }
   ],
   "source": [
    "#Write a program to count the number of vowels and consonants present in an input string.\n",
    "def count_vowels_and_consonants(text):\n",
    "    vowels = \"aeiouAEIOU\"\n",
    "    num_vowels = 0\n",
    "    num_consonants = 0\n",
    "\n",
    "    for character in text:\n",
    "        if character.isalpha():  # Check if the character is a letter\n",
    "            if character in vowels:\n",
    "                num_vowels += 1\n",
    "            else:\n",
    "                num_consonants += 1\n",
    "\n",
    "    return num_vowels, num_consonants\n",
    "\n",
    "# Main execution\n",
    "word = \"I am Baba Ameer Shaik\"\n",
    "vowel_count, consonant_count = count_vowels_and_consonants(word)\n",
    "print(f\"Input Word: {word}\")\n",
    "print(f\"Number of Vowels: {vowel_count}, Number of Consonants: {consonant_count}\")\n"
   ]
  },
  {
   "cell_type": "code",
   "execution_count": 19,
   "id": "78217c06-90a6-4620-85d6-39f009f865d1",
   "metadata": {},
   "outputs": [
    {
     "name": "stdout",
     "output_type": "stream",
     "text": [
      "Multiplication of matrices A and B:\n",
      "[19, 22]\n",
      "[43, 50]\n"
     ]
    }
   ],
   "source": [
    "#Write a program that accepts two matrices A and B as input and returns their product AB.\n",
    "#Check if A & B are multipliable; if not, return error message.\n",
    "def multiply_matrices(A, B):\n",
    "    # if matrices A and B can be multiplied\n",
    "    if len(A[0]) != len(B):\n",
    "        return \"Error: Matrices are not multipliable\"\n",
    "\n",
    "    # Initialize the result matrix with zeros\n",
    "    rows_A = len(A)\n",
    "    cols_B = len(B[0])\n",
    "    # Initialize the result matrix with zeros\n",
    "# This matrix will have rows equal to the number of rows in A\n",
    "# and columns equal to the number of columns in B\n",
    "    result = []\n",
    "    for i in range(rows_A):\n",
    "        row = []\n",
    "        for j in range(cols_B):\n",
    "            row.append(0)  # Initialize each element in the row to 0\n",
    "        result.append(row)\n",
    "\n",
    "    # Perform matrix multiplication\n",
    "    for i in range(rows_A):\n",
    "        for j in range(cols_B):\n",
    "            for k in range(len(B)):\n",
    "                result[i][j] += A[i][k] * B[k][j]\n",
    "\n",
    "    return result\n",
    "\n",
    "# Main program\n",
    "\n",
    "A = [[1, 2],\n",
    "     [3, 4]]\n",
    "B = [[5, 6],\n",
    "     [7, 8]]\n",
    "\n",
    "# Calculate the product of A and B\n",
    "product = multiply_matrices(A, B)\n",
    "\n",
    "# Check if the result is an error message or a matrix\n",
    "if isinstance(product, str):\n",
    "    print(product)\n",
    "else:\n",
    "    print(\"Multiplication of matrices A and B:\")\n",
    "    for row in product:\n",
    "        print(row)\n"
   ]
  },
  {
   "cell_type": "code",
   "execution_count": 23,
   "id": "c630033d-fa0f-49c8-b1b8-1ee1c135fe2a",
   "metadata": {},
   "outputs": [
    {
     "name": "stdout",
     "output_type": "stream",
     "text": [
      "Number of common elements: 3\n"
     ]
    }
   ],
   "source": [
    "#Write a program to find the number of common elements between two lists. The lists\n",
    "#contain integers.\n",
    "\n",
    "def countcommonelements(list1, list2):\n",
    "    # Converting both lists to sets to remove duplicates and allow for set operations\n",
    "    set1 = set(list1)\n",
    "    set2 = set(list2)\n",
    "\n",
    "    # Find the intersection of both sets\n",
    "    common_elements = set1.intersection(set2)\n",
    "\n",
    "    # Return the number of common elements\n",
    "    return len(common_elements)\n",
    "\n",
    "# Main program\n",
    "list1 = [1, 2, 3, 4, 5]\n",
    "list2 = [3, 4, 5, 6, 7]\n",
    "\n",
    "common_count = countcommonelements(list1, list2)\n",
    "print(f\"Number of common elements: {common_count}\")\n"
   ]
  },
  {
   "cell_type": "code",
   "execution_count": 27,
   "id": "0e5386a7-5578-4a29-8d11-761758316074",
   "metadata": {},
   "outputs": [
    {
     "ename": "NameError",
     "evalue": "name 'transpose_matrix' is not defined",
     "output_type": "error",
     "traceback": [
      "\u001b[1;31m---------------------------------------------------------------------------\u001b[0m",
      "\u001b[1;31mNameError\u001b[0m                                 Traceback (most recent call last)",
      "Cell \u001b[1;32mIn[27], line 5\u001b[0m\n\u001b[0;32m      1\u001b[0m \u001b[38;5;66;03m#Write a program that accepts a matrix as input and returns its transpose.\u001b[39;00m\n\u001b[0;32m      3\u001b[0m A \u001b[38;5;241m=\u001b[39m [[\u001b[38;5;241m1\u001b[39m, \u001b[38;5;241m2\u001b[39m],[\u001b[38;5;241m3\u001b[39m, \u001b[38;5;241m4\u001b[39m]]\n\u001b[1;32m----> 5\u001b[0m transpose \u001b[38;5;241m=\u001b[39m transpose_matrix(A)\n\u001b[0;32m      6\u001b[0m \u001b[38;5;28mprint\u001b[39m(\u001b[38;5;124m\"\u001b[39m\u001b[38;5;124mTranspose of the matrix:\u001b[39m\u001b[38;5;124m\"\u001b[39m)\n\u001b[0;32m      7\u001b[0m \u001b[38;5;28;01mfor\u001b[39;00m row \u001b[38;5;129;01min\u001b[39;00m transpose:\n",
      "\u001b[1;31mNameError\u001b[0m: name 'transpose_matrix' is not defined"
     ]
    }
   ],
   "source": [
    "# Program to transpose a matrix using a nested loop\n",
    "\n",
    "X = [[1,2],\n",
    "    [3 ,],\n",
    "    [3 ,8]]\n",
    "\n",
    "result = [[0,0,0],\n",
    "         [0,0,0]]\n",
    "\n",
    "# iterate through rows\n",
    "for i in range(len(X)):\n",
    "   # iterate through columns\n",
    "   for j in range(len(X[0])):\n",
    "       result[j][i] = X[i][j]\n",
    "\n",
    "for r in result:\n",
    "   print(r)\n"
   ]
  }
 ],
 "metadata": {
  "kernelspec": {
   "display_name": "Python 3 (ipykernel)",
   "language": "python",
   "name": "python3"
  },
  "language_info": {
   "codemirror_mode": {
    "name": "ipython",
    "version": 3
   },
   "file_extension": ".py",
   "mimetype": "text/x-python",
   "name": "python",
   "nbconvert_exporter": "python",
   "pygments_lexer": "ipython3",
   "version": "3.12.4"
  }
 },
 "nbformat": 4,
 "nbformat_minor": 5
}
